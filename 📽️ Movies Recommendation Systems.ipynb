{
 "cells": [
  {
   "cell_type": "markdown",
   "id": "614a80d2",
   "metadata": {},
   "source": [
    "# 🎬 Movies recomendation using Content-Based and Collaborative Filtering\n",
    "---"
   ]
  },
  {
   "cell_type": "markdown",
   "id": "683cd533",
   "metadata": {},
   "source": [
    "## 1. Recommendation Systems\n",
    "\n",
    "**Recommendation Systems (RS)** are a subclass of information filtering system that provide suggestions for items that are most pertinent to a particular user. Typically, the suggestions refer to various decision-making processes, such as what product to purchase, what music to listen to, or what online news to read. Recommender systems are particularly useful when an individual needs to choose an item from a potentially overwhelming number of items that a service may offer. There are many types of RS:\n",
    "   1. Content-Based Filtering: Recommendations based on product attributes and it's similarities;\n",
    "   2. Collaborative Filtering (CF): Uses 'wisdom of the crowd' to match recommendations to users;\n",
    "       - Memory-based CF: Relies on historical data to fit recommendations\n",
    "           - User-based filtering: Based on users with similar tastes.\n",
    "           - Item-based filtering: Based on items liked by similar users. \n",
    "       - Model-based CF: Finds underlying patterns inside the data to predict best recommendations."
   ]
  },
  {
   "cell_type": "markdown",
   "id": "8bf83f06",
   "metadata": {},
   "source": [
    "## 2. Importing Data"
   ]
  },
  {
   "cell_type": "markdown",
   "id": "86496920",
   "metadata": {},
   "source": [
    "\n",
    "We begin the project importing libraries and files to work with. The Archives used here comprises data from many user evaluations of movie titles, from 1 (bad) to 5 (excelent) stars. \n",
    "Before starting to look into the data, we have to combine two archives to translate `movie_id` into the `movie title`.Then, we can perform an explanatory analysis within the DF. \n"
   ]
  },
  {
   "cell_type": "code",
   "execution_count": 1,
   "id": "9553dfc0",
   "metadata": {},
   "outputs": [],
   "source": [
    "import numpy as np\n",
    "import pandas as pd\n",
    "import os\n",
    "import matplotlib.pyplot as plt\n",
    "%matplotlib inline\n",
    "import seaborn as sns"
   ]
  },
  {
   "cell_type": "code",
   "execution_count": 52,
   "id": "4e974cdf",
   "metadata": {},
   "outputs": [],
   "source": [
    "movies = pd.read_csv('Refactored_Py_DS_ML_Bootcamp-master/19-Recommender-Systems/u.data',\n",
    "                     sep = '\\t', names=['user_id', 'item_id', 'rating', 'timestamp'])"
   ]
  },
  {
   "cell_type": "code",
   "execution_count": 3,
   "id": "7779f393",
   "metadata": {},
   "outputs": [
    {
     "data": {
      "text/html": [
       "<div>\n",
       "<style scoped>\n",
       "    .dataframe tbody tr th:only-of-type {\n",
       "        vertical-align: middle;\n",
       "    }\n",
       "\n",
       "    .dataframe tbody tr th {\n",
       "        vertical-align: top;\n",
       "    }\n",
       "\n",
       "    .dataframe thead th {\n",
       "        text-align: right;\n",
       "    }\n",
       "</style>\n",
       "<table border=\"1\" class=\"dataframe\">\n",
       "  <thead>\n",
       "    <tr style=\"text-align: right;\">\n",
       "      <th></th>\n",
       "      <th>user_id</th>\n",
       "      <th>item_id</th>\n",
       "      <th>rating</th>\n",
       "      <th>timestamp</th>\n",
       "    </tr>\n",
       "  </thead>\n",
       "  <tbody>\n",
       "    <tr>\n",
       "      <th>0</th>\n",
       "      <td>0</td>\n",
       "      <td>50</td>\n",
       "      <td>5</td>\n",
       "      <td>881250949</td>\n",
       "    </tr>\n",
       "    <tr>\n",
       "      <th>1</th>\n",
       "      <td>0</td>\n",
       "      <td>172</td>\n",
       "      <td>5</td>\n",
       "      <td>881250949</td>\n",
       "    </tr>\n",
       "    <tr>\n",
       "      <th>2</th>\n",
       "      <td>0</td>\n",
       "      <td>133</td>\n",
       "      <td>1</td>\n",
       "      <td>881250949</td>\n",
       "    </tr>\n",
       "    <tr>\n",
       "      <th>3</th>\n",
       "      <td>196</td>\n",
       "      <td>242</td>\n",
       "      <td>3</td>\n",
       "      <td>881250949</td>\n",
       "    </tr>\n",
       "    <tr>\n",
       "      <th>4</th>\n",
       "      <td>186</td>\n",
       "      <td>302</td>\n",
       "      <td>3</td>\n",
       "      <td>891717742</td>\n",
       "    </tr>\n",
       "  </tbody>\n",
       "</table>\n",
       "</div>"
      ],
      "text/plain": [
       "   user_id  item_id  rating  timestamp\n",
       "0        0       50       5  881250949\n",
       "1        0      172       5  881250949\n",
       "2        0      133       1  881250949\n",
       "3      196      242       3  881250949\n",
       "4      186      302       3  891717742"
      ]
     },
     "execution_count": 3,
     "metadata": {},
     "output_type": "execute_result"
    }
   ],
   "source": [
    "movies.head()"
   ]
  },
  {
   "cell_type": "code",
   "execution_count": 53,
   "id": "5b068be7",
   "metadata": {},
   "outputs": [],
   "source": [
    "titles = pd.read_csv('Refactored_Py_DS_ML_Bootcamp-master/19-Recommender-Systems/Movie_Id_Titles')"
   ]
  },
  {
   "cell_type": "code",
   "execution_count": 5,
   "id": "43d1e734",
   "metadata": {},
   "outputs": [
    {
     "data": {
      "text/html": [
       "<div>\n",
       "<style scoped>\n",
       "    .dataframe tbody tr th:only-of-type {\n",
       "        vertical-align: middle;\n",
       "    }\n",
       "\n",
       "    .dataframe tbody tr th {\n",
       "        vertical-align: top;\n",
       "    }\n",
       "\n",
       "    .dataframe thead th {\n",
       "        text-align: right;\n",
       "    }\n",
       "</style>\n",
       "<table border=\"1\" class=\"dataframe\">\n",
       "  <thead>\n",
       "    <tr style=\"text-align: right;\">\n",
       "      <th></th>\n",
       "      <th>item_id</th>\n",
       "      <th>title</th>\n",
       "    </tr>\n",
       "  </thead>\n",
       "  <tbody>\n",
       "    <tr>\n",
       "      <th>0</th>\n",
       "      <td>1</td>\n",
       "      <td>Toy Story (1995)</td>\n",
       "    </tr>\n",
       "    <tr>\n",
       "      <th>1</th>\n",
       "      <td>2</td>\n",
       "      <td>GoldenEye (1995)</td>\n",
       "    </tr>\n",
       "    <tr>\n",
       "      <th>2</th>\n",
       "      <td>3</td>\n",
       "      <td>Four Rooms (1995)</td>\n",
       "    </tr>\n",
       "    <tr>\n",
       "      <th>3</th>\n",
       "      <td>4</td>\n",
       "      <td>Get Shorty (1995)</td>\n",
       "    </tr>\n",
       "    <tr>\n",
       "      <th>4</th>\n",
       "      <td>5</td>\n",
       "      <td>Copycat (1995)</td>\n",
       "    </tr>\n",
       "  </tbody>\n",
       "</table>\n",
       "</div>"
      ],
      "text/plain": [
       "   item_id              title\n",
       "0        1   Toy Story (1995)\n",
       "1        2   GoldenEye (1995)\n",
       "2        3  Four Rooms (1995)\n",
       "3        4  Get Shorty (1995)\n",
       "4        5     Copycat (1995)"
      ]
     },
     "execution_count": 5,
     "metadata": {},
     "output_type": "execute_result"
    }
   ],
   "source": [
    "titles.head()"
   ]
  },
  {
   "cell_type": "code",
   "execution_count": 6,
   "id": "adae592c",
   "metadata": {},
   "outputs": [],
   "source": [
    "df = pd.merge(movies, titles, on='item_id', how = 'inner')"
   ]
  },
  {
   "cell_type": "code",
   "execution_count": 7,
   "id": "0125289f",
   "metadata": {},
   "outputs": [
    {
     "data": {
      "text/html": [
       "<div>\n",
       "<style scoped>\n",
       "    .dataframe tbody tr th:only-of-type {\n",
       "        vertical-align: middle;\n",
       "    }\n",
       "\n",
       "    .dataframe tbody tr th {\n",
       "        vertical-align: top;\n",
       "    }\n",
       "\n",
       "    .dataframe thead th {\n",
       "        text-align: right;\n",
       "    }\n",
       "</style>\n",
       "<table border=\"1\" class=\"dataframe\">\n",
       "  <thead>\n",
       "    <tr style=\"text-align: right;\">\n",
       "      <th></th>\n",
       "      <th>user_id</th>\n",
       "      <th>item_id</th>\n",
       "      <th>rating</th>\n",
       "      <th>timestamp</th>\n",
       "      <th>title</th>\n",
       "    </tr>\n",
       "  </thead>\n",
       "  <tbody>\n",
       "    <tr>\n",
       "      <th>0</th>\n",
       "      <td>0</td>\n",
       "      <td>50</td>\n",
       "      <td>5</td>\n",
       "      <td>881250949</td>\n",
       "      <td>Star Wars (1977)</td>\n",
       "    </tr>\n",
       "    <tr>\n",
       "      <th>1</th>\n",
       "      <td>290</td>\n",
       "      <td>50</td>\n",
       "      <td>5</td>\n",
       "      <td>880473582</td>\n",
       "      <td>Star Wars (1977)</td>\n",
       "    </tr>\n",
       "    <tr>\n",
       "      <th>2</th>\n",
       "      <td>79</td>\n",
       "      <td>50</td>\n",
       "      <td>4</td>\n",
       "      <td>891271545</td>\n",
       "      <td>Star Wars (1977)</td>\n",
       "    </tr>\n",
       "    <tr>\n",
       "      <th>3</th>\n",
       "      <td>2</td>\n",
       "      <td>50</td>\n",
       "      <td>5</td>\n",
       "      <td>888552084</td>\n",
       "      <td>Star Wars (1977)</td>\n",
       "    </tr>\n",
       "    <tr>\n",
       "      <th>4</th>\n",
       "      <td>8</td>\n",
       "      <td>50</td>\n",
       "      <td>5</td>\n",
       "      <td>879362124</td>\n",
       "      <td>Star Wars (1977)</td>\n",
       "    </tr>\n",
       "  </tbody>\n",
       "</table>\n",
       "</div>"
      ],
      "text/plain": [
       "   user_id  item_id  rating  timestamp             title\n",
       "0        0       50       5  881250949  Star Wars (1977)\n",
       "1      290       50       5  880473582  Star Wars (1977)\n",
       "2       79       50       4  891271545  Star Wars (1977)\n",
       "3        2       50       5  888552084  Star Wars (1977)\n",
       "4        8       50       5  879362124  Star Wars (1977)"
      ]
     },
     "execution_count": 7,
     "metadata": {},
     "output_type": "execute_result"
    }
   ],
   "source": [
    "df.head()"
   ]
  },
  {
   "cell_type": "code",
   "execution_count": 8,
   "id": "8fb7dc48",
   "metadata": {},
   "outputs": [
    {
     "name": "stdout",
     "output_type": "stream",
     "text": [
      "<class 'pandas.core.frame.DataFrame'>\n",
      "Int64Index: 100003 entries, 0 to 100002\n",
      "Data columns (total 5 columns):\n",
      " #   Column     Non-Null Count   Dtype \n",
      "---  ------     --------------   ----- \n",
      " 0   user_id    100003 non-null  int64 \n",
      " 1   item_id    100003 non-null  int64 \n",
      " 2   rating     100003 non-null  int64 \n",
      " 3   timestamp  100003 non-null  int64 \n",
      " 4   title      100003 non-null  object\n",
      "dtypes: int64(4), object(1)\n",
      "memory usage: 4.6+ MB\n"
     ]
    }
   ],
   "source": [
    "df.info()"
   ]
  },
  {
   "cell_type": "markdown",
   "id": "d40d7d47",
   "metadata": {},
   "source": [
    "\n",
    "A quick look shows us that our data file contains ~100,000 not null registers of user-movie ratings. Let's follow the process with EDA: \n"
   ]
  },
  {
   "cell_type": "markdown",
   "id": "ef80feae",
   "metadata": {},
   "source": [
    "## 3. EDA"
   ]
  },
  {
   "cell_type": "markdown",
   "id": "06a87edf",
   "metadata": {},
   "source": [
    "Here we search for insights within the data. Let's check for data distributions, aggregate informations and engineer features to analyze, before perform the first recommendation system."
   ]
  },
  {
   "cell_type": "code",
   "execution_count": 9,
   "id": "1dece008",
   "metadata": {},
   "outputs": [
    {
     "name": "stdout",
     "output_type": "stream",
     "text": [
      "movies:  1664\n",
      "users:  944\n"
     ]
    }
   ],
   "source": [
    "n_titles = df['title'].nunique()\n",
    "n_users = df['user_id'].nunique()\n",
    "\n",
    "print('movies: ',n_titles)\n",
    "print('users: ', n_users)"
   ]
  },
  {
   "cell_type": "code",
   "execution_count": 11,
   "id": "0679d723",
   "metadata": {},
   "outputs": [
    {
     "data": {
      "text/plain": [
       "<AxesSubplot:xlabel='rating', ylabel='Count'>"
      ]
     },
     "execution_count": 11,
     "metadata": {},
     "output_type": "execute_result"
    },
    {
     "data": {
      "image/png": "[encoded data removed]",
      "text/plain": [
       "<Figure size 576x360 with 1 Axes>"
      ]
     },
     "metadata": {
      "needs_background": "light"
     },
     "output_type": "display_data"
    }
   ],
   "source": [
    "#checking how ratings are distributed in DF:\n",
    "plt.figure(figsize=(8,5))\n",
    "sns.set_style('whitegrid')\n",
    "sns.histplot(data = df, x = 'rating', color = 'green', discrete = True)"
   ]
  },
  {
   "cell_type": "code",
   "execution_count": 15,
   "id": "562d1ffd",
   "metadata": {},
   "outputs": [],
   "source": [
    "#agregating relevant information by the title\n",
    "ByTitle = df.groupby('title')['rating'].agg([len, np.mean, np.std])"
   ]
  },
  {
   "cell_type": "code",
   "execution_count": 16,
   "id": "4f508a8d",
   "metadata": {},
   "outputs": [
    {
     "data": {
      "text/html": [
       "<div>\n",
       "<style scoped>\n",
       "    .dataframe tbody tr th:only-of-type {\n",
       "        vertical-align: middle;\n",
       "    }\n",
       "\n",
       "    .dataframe tbody tr th {\n",
       "        vertical-align: top;\n",
       "    }\n",
       "\n",
       "    .dataframe thead th {\n",
       "        text-align: right;\n",
       "    }\n",
       "</style>\n",
       "<table border=\"1\" class=\"dataframe\">\n",
       "  <thead>\n",
       "    <tr style=\"text-align: right;\">\n",
       "      <th></th>\n",
       "      <th>num of rates</th>\n",
       "      <th>rating</th>\n",
       "      <th>rate_std</th>\n",
       "    </tr>\n",
       "    <tr>\n",
       "      <th>title</th>\n",
       "      <th></th>\n",
       "      <th></th>\n",
       "      <th></th>\n",
       "    </tr>\n",
       "  </thead>\n",
       "  <tbody>\n",
       "    <tr>\n",
       "      <th>Pather Panchali (1955)</th>\n",
       "      <td>8</td>\n",
       "      <td>4.625000</td>\n",
       "      <td>0.517549</td>\n",
       "    </tr>\n",
       "    <tr>\n",
       "      <th>Close Shave, A (1995)</th>\n",
       "      <td>112</td>\n",
       "      <td>4.491071</td>\n",
       "      <td>0.771047</td>\n",
       "    </tr>\n",
       "    <tr>\n",
       "      <th>Schindler's List (1993)</th>\n",
       "      <td>298</td>\n",
       "      <td>4.466443</td>\n",
       "      <td>0.829109</td>\n",
       "    </tr>\n",
       "    <tr>\n",
       "      <th>Wrong Trousers, The (1993)</th>\n",
       "      <td>118</td>\n",
       "      <td>4.466102</td>\n",
       "      <td>0.823607</td>\n",
       "    </tr>\n",
       "    <tr>\n",
       "      <th>Casablanca (1942)</th>\n",
       "      <td>243</td>\n",
       "      <td>4.456790</td>\n",
       "      <td>0.728114</td>\n",
       "    </tr>\n",
       "  </tbody>\n",
       "</table>\n",
       "</div>"
      ],
      "text/plain": [
       "                            num of rates    rating  rate_std\n",
       "title                                                       \n",
       "Pather Panchali (1955)                 8  4.625000  0.517549\n",
       "Close Shave, A (1995)                112  4.491071  0.771047\n",
       "Schindler's List (1993)              298  4.466443  0.829109\n",
       "Wrong Trousers, The (1993)           118  4.466102  0.823607\n",
       "Casablanca (1942)                    243  4.456790  0.728114"
      ]
     },
     "execution_count": 16,
     "metadata": {},
     "output_type": "execute_result"
    }
   ],
   "source": [
    "#To ease understanding, we rename the columns\n",
    "ByTitle.rename(columns = {'len': 'num of rates','mean':'rating', 'std':'rate_std'}, inplace = True)\n",
    "\n",
    "# Quick look to new data\n",
    "ByTitle[ByTitle['num of rates'] >= 5].sort_values('rating', ascending = False).head()"
   ]
  },
  {
   "cell_type": "code",
   "execution_count": 85,
   "id": "f4aece97",
   "metadata": {
    "scrolled": false
   },
   "outputs": [
    {
     "data": {
      "text/plain": [
       "<function matplotlib.pyplot.savefig(*args, **kwargs)>"
      ]
     },
     "execution_count": 85,
     "metadata": {},
     "output_type": "execute_result"
    },
    {
     "data": {
      "text/plain": [
       "<Figure size 1152x720 with 0 Axes>"
      ]
     },
     "metadata": {},
     "output_type": "display_data"
    },
    {
     "data": {
      "image/png": "[encoded data removed]",
      "text/plain": [
       "<Figure size 540x540 with 12 Axes>"
      ]
     },
     "metadata": {},
     "output_type": "display_data"
    }
   ],
   "source": [
    "# Can we see any correlations inside this data? \n",
    "plt.figure(figsize=(16,10))\n",
    "sns.set_style('whitegrid')\n",
    "sns.set_context('notebook')\n",
    "sns.pairplot(ByTitle)"
   ]
  },
  {
   "cell_type": "markdown",
   "id": "093958c9",
   "metadata": {},
   "source": [
    "To summarize:\n",
    " - Higher average ratings tends to have more views. That makes sense, since it is much more likely we recommend a movie we like, than one we dislike. Also, the more it is seen the least sd it has. We can assume that beyond 100 people the ratings deviation stays on average bellow 1.5 points.\n",
    " - For the diagonal histograms, the rating appears to behave normally around 3 stars rating, wich makes sense. Also, usually they stay between 0 to 100 ratings."
   ]
  },
  {
   "cell_type": "markdown",
   "id": "7e99b9b4",
   "metadata": {},
   "source": [
    "## 4. Content-based systems"
   ]
  },
  {
   "cell_type": "markdown",
   "id": "e6b41aa7",
   "metadata": {},
   "source": [
    "For this model, we build a User-Item Matrix with every user rating to every movie (or else, NaNs). We choose a movie that might been a blockbuster (has many reviews), and build a recommendation for it."
   ]
  },
  {
   "cell_type": "code",
   "execution_count": 10,
   "id": "2b6f64fd",
   "metadata": {},
   "outputs": [],
   "source": [
    "UI_mat = df.pivot_table(index = 'user_id', columns='title', values = 'rating')"
   ]
  },
  {
   "cell_type": "code",
   "execution_count": 11,
   "id": "f93db30f",
   "metadata": {},
   "outputs": [
    {
     "data": {
      "text/html": [
       "<div>\n",
       "<style scoped>\n",
       "    .dataframe tbody tr th:only-of-type {\n",
       "        vertical-align: middle;\n",
       "    }\n",
       "\n",
       "    .dataframe tbody tr th {\n",
       "        vertical-align: top;\n",
       "    }\n",
       "\n",
       "    .dataframe thead th {\n",
       "        text-align: right;\n",
       "    }\n",
       "</style>\n",
       "<table border=\"1\" class=\"dataframe\">\n",
       "  <thead>\n",
       "    <tr style=\"text-align: right;\">\n",
       "      <th>title</th>\n",
       "      <th>'Til There Was You (1997)</th>\n",
       "      <th>1-900 (1994)</th>\n",
       "      <th>101 Dalmatians (1996)</th>\n",
       "      <th>12 Angry Men (1957)</th>\n",
       "      <th>187 (1997)</th>\n",
       "      <th>2 Days in the Valley (1996)</th>\n",
       "      <th>20,000 Leagues Under the Sea (1954)</th>\n",
       "      <th>2001: A Space Odyssey (1968)</th>\n",
       "      <th>3 Ninjas: High Noon At Mega Mountain (1998)</th>\n",
       "      <th>39 Steps, The (1935)</th>\n",
       "      <th>...</th>\n",
       "      <th>Yankee Zulu (1994)</th>\n",
       "      <th>Year of the Horse (1997)</th>\n",
       "      <th>You So Crazy (1994)</th>\n",
       "      <th>Young Frankenstein (1974)</th>\n",
       "      <th>Young Guns (1988)</th>\n",
       "      <th>Young Guns II (1990)</th>\n",
       "      <th>Young Poisoner's Handbook, The (1995)</th>\n",
       "      <th>Zeus and Roxanne (1997)</th>\n",
       "      <th>unknown</th>\n",
       "      <th>Á köldum klaka (Cold Fever) (1994)</th>\n",
       "    </tr>\n",
       "    <tr>\n",
       "      <th>user_id</th>\n",
       "      <th></th>\n",
       "      <th></th>\n",
       "      <th></th>\n",
       "      <th></th>\n",
       "      <th></th>\n",
       "      <th></th>\n",
       "      <th></th>\n",
       "      <th></th>\n",
       "      <th></th>\n",
       "      <th></th>\n",
       "      <th></th>\n",
       "      <th></th>\n",
       "      <th></th>\n",
       "      <th></th>\n",
       "      <th></th>\n",
       "      <th></th>\n",
       "      <th></th>\n",
       "      <th></th>\n",
       "      <th></th>\n",
       "      <th></th>\n",
       "      <th></th>\n",
       "    </tr>\n",
       "  </thead>\n",
       "  <tbody>\n",
       "    <tr>\n",
       "      <th>0</th>\n",
       "      <td>NaN</td>\n",
       "      <td>NaN</td>\n",
       "      <td>NaN</td>\n",
       "      <td>NaN</td>\n",
       "      <td>NaN</td>\n",
       "      <td>NaN</td>\n",
       "      <td>NaN</td>\n",
       "      <td>NaN</td>\n",
       "      <td>NaN</td>\n",
       "      <td>NaN</td>\n",
       "      <td>...</td>\n",
       "      <td>NaN</td>\n",
       "      <td>NaN</td>\n",
       "      <td>NaN</td>\n",
       "      <td>NaN</td>\n",
       "      <td>NaN</td>\n",
       "      <td>NaN</td>\n",
       "      <td>NaN</td>\n",
       "      <td>NaN</td>\n",
       "      <td>NaN</td>\n",
       "      <td>NaN</td>\n",
       "    </tr>\n",
       "    <tr>\n",
       "      <th>1</th>\n",
       "      <td>NaN</td>\n",
       "      <td>NaN</td>\n",
       "      <td>2.0</td>\n",
       "      <td>5.0</td>\n",
       "      <td>NaN</td>\n",
       "      <td>NaN</td>\n",
       "      <td>3.0</td>\n",
       "      <td>4.0</td>\n",
       "      <td>NaN</td>\n",
       "      <td>NaN</td>\n",
       "      <td>...</td>\n",
       "      <td>NaN</td>\n",
       "      <td>NaN</td>\n",
       "      <td>NaN</td>\n",
       "      <td>5.0</td>\n",
       "      <td>3.0</td>\n",
       "      <td>NaN</td>\n",
       "      <td>NaN</td>\n",
       "      <td>NaN</td>\n",
       "      <td>4.0</td>\n",
       "      <td>NaN</td>\n",
       "    </tr>\n",
       "    <tr>\n",
       "      <th>2</th>\n",
       "      <td>NaN</td>\n",
       "      <td>NaN</td>\n",
       "      <td>NaN</td>\n",
       "      <td>NaN</td>\n",
       "      <td>NaN</td>\n",
       "      <td>NaN</td>\n",
       "      <td>NaN</td>\n",
       "      <td>NaN</td>\n",
       "      <td>1.0</td>\n",
       "      <td>NaN</td>\n",
       "      <td>...</td>\n",
       "      <td>NaN</td>\n",
       "      <td>NaN</td>\n",
       "      <td>NaN</td>\n",
       "      <td>NaN</td>\n",
       "      <td>NaN</td>\n",
       "      <td>NaN</td>\n",
       "      <td>NaN</td>\n",
       "      <td>NaN</td>\n",
       "      <td>NaN</td>\n",
       "      <td>NaN</td>\n",
       "    </tr>\n",
       "    <tr>\n",
       "      <th>3</th>\n",
       "      <td>NaN</td>\n",
       "      <td>NaN</td>\n",
       "      <td>NaN</td>\n",
       "      <td>NaN</td>\n",
       "      <td>2.0</td>\n",
       "      <td>NaN</td>\n",
       "      <td>NaN</td>\n",
       "      <td>NaN</td>\n",
       "      <td>NaN</td>\n",
       "      <td>NaN</td>\n",
       "      <td>...</td>\n",
       "      <td>NaN</td>\n",
       "      <td>NaN</td>\n",
       "      <td>NaN</td>\n",
       "      <td>NaN</td>\n",
       "      <td>NaN</td>\n",
       "      <td>NaN</td>\n",
       "      <td>NaN</td>\n",
       "      <td>NaN</td>\n",
       "      <td>NaN</td>\n",
       "      <td>NaN</td>\n",
       "    </tr>\n",
       "    <tr>\n",
       "      <th>4</th>\n",
       "      <td>NaN</td>\n",
       "      <td>NaN</td>\n",
       "      <td>NaN</td>\n",
       "      <td>NaN</td>\n",
       "      <td>NaN</td>\n",
       "      <td>NaN</td>\n",
       "      <td>NaN</td>\n",
       "      <td>NaN</td>\n",
       "      <td>NaN</td>\n",
       "      <td>NaN</td>\n",
       "      <td>...</td>\n",
       "      <td>NaN</td>\n",
       "      <td>NaN</td>\n",
       "      <td>NaN</td>\n",
       "      <td>NaN</td>\n",
       "      <td>NaN</td>\n",
       "      <td>NaN</td>\n",
       "      <td>NaN</td>\n",
       "      <td>NaN</td>\n",
       "      <td>NaN</td>\n",
       "      <td>NaN</td>\n",
       "    </tr>\n",
       "  </tbody>\n",
       "</table>\n",
       "<p>5 rows × 1664 columns</p>\n",
       "</div>"
      ],
      "text/plain": [
       "title    'Til There Was You (1997)  1-900 (1994)  101 Dalmatians (1996)  \\\n",
       "user_id                                                                   \n",
       "0                              NaN           NaN                    NaN   \n",
       "1                              NaN           NaN                    2.0   \n",
       "2                              NaN           NaN                    NaN   \n",
       "3                              NaN           NaN                    NaN   \n",
       "4                              NaN           NaN                    NaN   \n",
       "\n",
       "title    12 Angry Men (1957)  187 (1997)  2 Days in the Valley (1996)  \\\n",
       "user_id                                                                 \n",
       "0                        NaN         NaN                          NaN   \n",
       "1                        5.0         NaN                          NaN   \n",
       "2                        NaN         NaN                          NaN   \n",
       "3                        NaN         2.0                          NaN   \n",
       "4                        NaN         NaN                          NaN   \n",
       "\n",
       "title    20,000 Leagues Under the Sea (1954)  2001: A Space Odyssey (1968)  \\\n",
       "user_id                                                                      \n",
       "0                                        NaN                           NaN   \n",
       "1                                        3.0                           4.0   \n",
       "2                                        NaN                           NaN   \n",
       "3                                        NaN                           NaN   \n",
       "4                                        NaN                           NaN   \n",
       "\n",
       "title    3 Ninjas: High Noon At Mega Mountain (1998)  39 Steps, The (1935)  \\\n",
       "user_id                                                                      \n",
       "0                                                NaN                   NaN   \n",
       "1                                                NaN                   NaN   \n",
       "2                                                1.0                   NaN   \n",
       "3                                                NaN                   NaN   \n",
       "4                                                NaN                   NaN   \n",
       "\n",
       "title    ...  Yankee Zulu (1994)  Year of the Horse (1997)  \\\n",
       "user_id  ...                                                 \n",
       "0        ...                 NaN                       NaN   \n",
       "1        ...                 NaN                       NaN   \n",
       "2        ...                 NaN                       NaN   \n",
       "3        ...                 NaN                       NaN   \n",
       "4        ...                 NaN                       NaN   \n",
       "\n",
       "title    You So Crazy (1994)  Young Frankenstein (1974)  Young Guns (1988)  \\\n",
       "user_id                                                                      \n",
       "0                        NaN                        NaN                NaN   \n",
       "1                        NaN                        5.0                3.0   \n",
       "2                        NaN                        NaN                NaN   \n",
       "3                        NaN                        NaN                NaN   \n",
       "4                        NaN                        NaN                NaN   \n",
       "\n",
       "title    Young Guns II (1990)  Young Poisoner's Handbook, The (1995)  \\\n",
       "user_id                                                                \n",
       "0                         NaN                                    NaN   \n",
       "1                         NaN                                    NaN   \n",
       "2                         NaN                                    NaN   \n",
       "3                         NaN                                    NaN   \n",
       "4                         NaN                                    NaN   \n",
       "\n",
       "title    Zeus and Roxanne (1997)  unknown  Á köldum klaka (Cold Fever) (1994)  \n",
       "user_id                                                                        \n",
       "0                            NaN      NaN                                 NaN  \n",
       "1                            NaN      4.0                                 NaN  \n",
       "2                            NaN      NaN                                 NaN  \n",
       "3                            NaN      NaN                                 NaN  \n",
       "4                            NaN      NaN                                 NaN  \n",
       "\n",
       "[5 rows x 1664 columns]"
      ]
     },
     "execution_count": 11,
     "metadata": {},
     "output_type": "execute_result"
    }
   ],
   "source": [
    "UI_mat.head()"
   ]
  },
  {
   "cell_type": "code",
   "execution_count": 19,
   "id": "274e427c",
   "metadata": {},
   "outputs": [
    {
     "data": {
      "text/plain": [
       "<AxesSubplot:ylabel='title'>"
      ]
     },
     "execution_count": 19,
     "metadata": {},
     "output_type": "execute_result"
    },
    {
     "data": {
      "image/png": "[encoded data removed]",
      "text/plain": [
       "<Figure size 1440x720 with 1 Axes>"
      ]
     },
     "metadata": {},
     "output_type": "display_data"
    }
   ],
   "source": [
    "rates = pd.DataFrame(df['title'].value_counts().sort_values(ascending = False).head(10))\n",
    "\n",
    "plt.figure(figsize=(20,10))\n",
    "plt.tick_params(labelsize = 15, labelrotation = 45)\n",
    "plt.ylabel('num of rates')\n",
    "sns.barplot(data = rates, x = rates.index,\n",
    "            y = 'title')\n"
   ]
  },
  {
   "cell_type": "code",
   "execution_count": 12,
   "id": "a70ff6f5",
   "metadata": {},
   "outputs": [
    {
     "name": "stderr",
     "output_type": "stream",
     "text": [
      "C:\\ProgramData\\Anaconda3\\lib\\site-packages\\numpy\\lib\\function_base.py:2634: RuntimeWarning: Degrees of freedom <= 0 for slice\n",
      "  c = cov(x, y, rowvar, dtype=dtype)\n",
      "C:\\ProgramData\\Anaconda3\\lib\\site-packages\\numpy\\lib\\function_base.py:2493: RuntimeWarning: divide by zero encountered in true_divide\n",
      "  c *= np.true_divide(1, fact)\n"
     ]
    }
   ],
   "source": [
    "#selecting Toy Story (1995) as to recommend\n",
    "\n",
    "TS_rates = UI_mat['Toy Story (1995)']\n",
    "similarTo_TS = UI_mat.corrwith(TS_rates)"
   ]
  },
  {
   "cell_type": "code",
   "execution_count": 13,
   "id": "804f4adf",
   "metadata": {},
   "outputs": [
    {
     "data": {
      "text/html": [
       "<div>\n",
       "<style scoped>\n",
       "    .dataframe tbody tr th:only-of-type {\n",
       "        vertical-align: middle;\n",
       "    }\n",
       "\n",
       "    .dataframe tbody tr th {\n",
       "        vertical-align: top;\n",
       "    }\n",
       "\n",
       "    .dataframe thead th {\n",
       "        text-align: right;\n",
       "    }\n",
       "</style>\n",
       "<table border=\"1\" class=\"dataframe\">\n",
       "  <thead>\n",
       "    <tr style=\"text-align: right;\">\n",
       "      <th></th>\n",
       "      <th>correl</th>\n",
       "    </tr>\n",
       "    <tr>\n",
       "      <th>title</th>\n",
       "      <th></th>\n",
       "    </tr>\n",
       "  </thead>\n",
       "  <tbody>\n",
       "    <tr>\n",
       "      <th>Scarlet Letter, The (1995)</th>\n",
       "      <td>1.0</td>\n",
       "    </tr>\n",
       "    <tr>\n",
       "      <th>Substance of Fire, The (1996)</th>\n",
       "      <td>1.0</td>\n",
       "    </tr>\n",
       "    <tr>\n",
       "      <th>Stranger, The (1994)</th>\n",
       "      <td>1.0</td>\n",
       "    </tr>\n",
       "    <tr>\n",
       "      <th>Wooden Man's Bride, The (Wu Kui) (1994)</th>\n",
       "      <td>1.0</td>\n",
       "    </tr>\n",
       "    <tr>\n",
       "      <th>Newton Boys, The (1998)</th>\n",
       "      <td>1.0</td>\n",
       "    </tr>\n",
       "    <tr>\n",
       "      <th>...</th>\n",
       "      <td>...</td>\n",
       "    </tr>\n",
       "    <tr>\n",
       "      <th>Woman in Question, The (1950)</th>\n",
       "      <td>NaN</td>\n",
       "    </tr>\n",
       "    <tr>\n",
       "      <th>Wonderland (1997)</th>\n",
       "      <td>NaN</td>\n",
       "    </tr>\n",
       "    <tr>\n",
       "      <th>Yankee Zulu (1994)</th>\n",
       "      <td>NaN</td>\n",
       "    </tr>\n",
       "    <tr>\n",
       "      <th>You So Crazy (1994)</th>\n",
       "      <td>NaN</td>\n",
       "    </tr>\n",
       "    <tr>\n",
       "      <th>Á köldum klaka (Cold Fever) (1994)</th>\n",
       "      <td>NaN</td>\n",
       "    </tr>\n",
       "  </tbody>\n",
       "</table>\n",
       "<p>1664 rows × 1 columns</p>\n",
       "</div>"
      ],
      "text/plain": [
       "                                         correl\n",
       "title                                          \n",
       "Scarlet Letter, The (1995)                  1.0\n",
       "Substance of Fire, The (1996)               1.0\n",
       "Stranger, The (1994)                        1.0\n",
       "Wooden Man's Bride, The (Wu Kui) (1994)     1.0\n",
       "Newton Boys, The (1998)                     1.0\n",
       "...                                         ...\n",
       "Woman in Question, The (1950)               NaN\n",
       "Wonderland (1997)                           NaN\n",
       "Yankee Zulu (1994)                          NaN\n",
       "You So Crazy (1994)                         NaN\n",
       "Á köldum klaka (Cold Fever) (1994)          NaN\n",
       "\n",
       "[1664 rows x 1 columns]"
      ]
     },
     "execution_count": 13,
     "metadata": {},
     "output_type": "execute_result"
    }
   ],
   "source": [
    "cor_TS = pd.DataFrame(similarTo_TS, columns = ['correl'])\n",
    "cor_TS.sort_values('correl',ascending = False)"
   ]
  },
  {
   "cell_type": "code",
   "execution_count": 17,
   "id": "174d10f1",
   "metadata": {},
   "outputs": [
    {
     "data": {
      "text/plain": [
       "title\n",
       "Toy Story (1995)                       1.000000\n",
       "Transformers: The Movie, The (1986)    0.753673\n",
       "Mouse Hunt (1997)                      0.736826\n",
       "Farewell My Concubine (1993)           0.672918\n",
       "Paris Is Burning (1990)                0.668410\n",
       "Fallen (1998)                          0.654585\n",
       "187 (1997)                             0.651857\n",
       "Raise the Red Lantern (1991)           0.641535\n",
       "Eddie (1996)                           0.623460\n",
       "Associate, The (1996)                  0.620767\n",
       "Name: correl, dtype: float64"
      ]
     },
     "execution_count": 17,
     "metadata": {},
     "output_type": "execute_result"
    }
   ],
   "source": [
    "#since the index are the movie names, we can append num of rates from ByTitle DF\n",
    "\n",
    "cor_TS['num of rates'] = pd.DataFrame(ByTitle['num of rates'])\n",
    "cor_TS[cor_TS['num of rates'] >= 25].sort_values('correl', ascending = False)['correl'].head(10)"
   ]
  },
  {
   "cell_type": "markdown",
   "id": "5d55ee79",
   "metadata": {},
   "source": [
    "This is a list of the 10th most likely movies to Toystory. We can simplify this process using a function that prints a list of most similar movies according to its name:"
   ]
  },
  {
   "cell_type": "code",
   "execution_count": 18,
   "id": "9712a635",
   "metadata": {
    "scrolled": false
   },
   "outputs": [
    {
     "name": "stderr",
     "output_type": "stream",
     "text": [
      "C:\\ProgramData\\Anaconda3\\lib\\site-packages\\numpy\\lib\\function_base.py:2634: RuntimeWarning: Degrees of freedom <= 0 for slice\n",
      "  c = cov(x, y, rowvar, dtype=dtype)\n",
      "C:\\ProgramData\\Anaconda3\\lib\\site-packages\\numpy\\lib\\function_base.py:2493: RuntimeWarning: divide by zero encountered in true_divide\n",
      "  c *= np.true_divide(1, fact)\n"
     ]
    },
    {
     "name": "stdout",
     "output_type": "stream",
     "text": [
      "                                              cor  views\n",
      "title                                                   \n",
      "Air Force One (1997)                     1.000000    431\n",
      "House of the Spirits, The (1993)         0.774597     24\n",
      "Houseguest (1994)                        0.774597     24\n",
      "Black Sheep (1996)                       0.766259     55\n",
      "Little Buddha (1993)                     0.746729     22\n",
      "Copycat (1995)                           0.711744     86\n",
      "Higher Learning (1995)                   0.696826     30\n",
      "Associate, The (1996)                    0.696300     41\n",
      "It's My Party (1995)                     0.689100     21\n",
      "Ma vie en rose (My Life in Pink) (1997)  0.681221     20\n"
     ]
    }
   ],
   "source": [
    "def CBsys(Mov_title, UImat, movie_rates_count, minViews):\n",
    "    ''' Doc:\n",
    "    Mov_title: str, Name of the movie as in User Item matrix\n",
    "    ---\n",
    "    UImat: User-Item Matrix (movies in column)\n",
    "    ---\n",
    "    movie_rates_count: pandas series with the num of rates of each movie\n",
    "    ---\n",
    "    minViews: the minimum number of reviews (ratings) before calculating corelation\n",
    "    '''\n",
    "    myMov = UImat[Mov_title]\n",
    "    correl = pd.DataFrame(UImat.corrwith(myMov), columns = ['cor'])\n",
    "    correl['views'] = pd.DataFrame(movie_rates_count)\n",
    "    print(correl[(correl['views']>= minViews)].sort_values('cor', ascending = False).head(10))\n",
    "\n",
    "#testing for Air Force One (1997)\n",
    "CBsys('Air Force One (1997)', UI_mat, ByTitle['num of rates'], 20)\n",
    "    "
   ]
  },
  {
   "cell_type": "markdown",
   "id": "7868f3c0",
   "metadata": {},
   "source": [
    "## 5. Collaborative Filtering\n",
    "---\n"
   ]
  },
  {
   "cell_type": "markdown",
   "id": "e61a9f20",
   "metadata": {},
   "source": [
    "### 5.1 Model Based CF\n",
    "\n",
    "This system finds underlying patterns in data as latent variables, and uses them to predict how any user is expected to rate an item.\n",
    "\n",
    "\n",
    "To prepare the model, we need to create user-item matrices for train and test. First, we fill both matrices with zeros for every client (for the rows) and product (for columns). Then, we use the pandas `intertuples()` function to replace the corresponding values with rates from the dataframe sample (both for trainning and test data). \n",
    "\n",
    "\n",
    "After we have built the train and test matrices, we will rely on a technique called **matrix factorization (MF)**, which can restructure the  user-item matrix into low-rank structure, and  represents the matrix as the multiplication of two low-rank matrices (where the rows contain the latent vector). We fit this matrix to approximate the original matrix, as closely as possible, by multiplying the low-rank matrices together, which fills in the entries missing in the original matrix."
   ]
  },
  {
   "cell_type": "code",
   "execution_count": 57,
   "id": "0b9e3b4b",
   "metadata": {},
   "outputs": [],
   "source": [
    "df2 = pd.merge(movies, titles, on= 'item_id')\n",
    "n_users = df2['user_id'].nunique()\n",
    "n_titles = df2['item_id'].nunique()"
   ]
  },
  {
   "cell_type": "code",
   "execution_count": 58,
   "id": "8ee0927f",
   "metadata": {},
   "outputs": [],
   "source": [
    "from sklearn.model_selection import train_test_split\n",
    "\n",
    "train_data, test_data = train_test_split(df2,\n",
    "                                         test_size = 0.2,\n",
    "                                         random_state=101)"
   ]
  },
  {
   "cell_type": "code",
   "execution_count": 60,
   "id": "6157ac6c",
   "metadata": {},
   "outputs": [],
   "source": [
    "#creating user-item matrices\n",
    "\n",
    "#train\n",
    "train_data_matrix = np.zeros((n_users, n_titles))\n",
    "for line in train_data.itertuples():\n",
    "    train_data_matrix[line[1]-1, line[2]-1] = line[3]  \n",
    "\n",
    "#test\n",
    "test_data_matrix = np.zeros((n_users, n_titles))\n",
    "for line in test_data.itertuples():\n",
    "    test_data_matrix[line[1]-1, line[2]-1] = line[3]"
   ]
  },
  {
   "cell_type": "markdown",
   "id": "dfe1ecc1",
   "metadata": {},
   "source": [
    "#### 5.1.1 SVD\n",
    "\n",
    "A well-known matrix factorization method is **Singular value decomposition (SVD)**. Collaborative Filtering can be formulated by approximating a matrix `X` by using singular value decomposition. \n",
    "\n",
    "\n",
    "The general equation can be expressed as follows:\n",
    "<img src=\"https://latex.codecogs.com/gif.latex?X=USV^T\" title=\"X=USV^T\" />\n",
    "\n",
    "\n",
    "Given `m x n` matrix `X`:\n",
    "* *`U`* is an *`(m x r)`* orthogonal matrix\n",
    "* *`S`* is an *`(r x r)`* diagonal matrix with non-negative real numbers on the diagonal\n",
    "* *V^T* is an *`(r x n)`* orthogonal matrix\n",
    "\n",
    "Elements on the diagnoal in `S` are known as *singular values of `X`*. \n",
    "\n",
    "\n",
    "Matrix *`X`* can be factorized to *`U`*, *`S`* and *`V`*. The *`U`* matrix represents the feature vectors corresponding to the users in the hidden feature space and the *`V`* matrix represents the feature vectors corresponding to the items in the hidden feature space.\n",
    "\n",
    "Now we can make predictions by taking the dot product of *`U`*, *`S`* and *`V^T`*.\n"
   ]
  },
  {
   "cell_type": "code",
   "execution_count": 61,
   "id": "d188da07",
   "metadata": {},
   "outputs": [],
   "source": [
    "import scipy.sparse as sp\n",
    "from scipy.sparse.linalg import svds"
   ]
  },
  {
   "cell_type": "code",
   "execution_count": 62,
   "id": "1ae34485",
   "metadata": {},
   "outputs": [],
   "source": [
    "u, s, vt = svds(train_data_matrix, k = 5)\n",
    "s_diag = np.diag(s)\n",
    "\n",
    "pred_matrix = np.dot(np.dot(u, s_diag), vt)"
   ]
  },
  {
   "cell_type": "markdown",
   "id": "2b38ce1f",
   "metadata": {},
   "source": [
    "To evaluate this model, we need to flatten the prediction matrix and the test matrix into 1D-arrays, and compare how similar they are. To do so, we also need to drop the values with no evaluations in the test matrix, therefore, the zeros."
   ]
  },
  {
   "cell_type": "code",
   "execution_count": 68,
   "id": "67dbfbfd",
   "metadata": {},
   "outputs": [
    {
     "name": "stdout",
     "output_type": "stream",
     "text": [
      "MSE is: 7.19\n",
      "RMSE is: 2.68 \n"
     ]
    }
   ],
   "source": [
    "from sklearn.metrics import mean_squared_error\n",
    "from math import sqrt\n",
    "\n",
    "#To calculate the model precision, we need to flatten the matrix into a 1D dimention and compare to the values in the test matrix which has been evaluated!\n",
    "MSE = mean_squared_error(pred_matrix[test_data_matrix.nonzero()].flatten(),\n",
    "                         test_data_matrix[test_data_matrix.nonzero()].flatten())\n",
    "\n",
    "RMSE = sqrt(MSE)\n",
    "\n",
    "#Lastly, let's print the results:\n",
    "print(f'MSE is: {MSE:.2f}', )\n",
    "print(f'RMSE is: {RMSE:.2f} ')"
   ]
  },
  {
   "cell_type": "markdown",
   "id": "8c53552c",
   "metadata": {},
   "source": [
    "Considering the results above, we expect a root squared difference of, on average, 2.68 from the real value. We might as well try to group products by genre, or decade of production, to enhance the model precision. "
   ]
  },
  {
   "cell_type": "markdown",
   "id": "6fe5f0de",
   "metadata": {},
   "source": [
    "### 5.2 Memory-Based CF\n",
    "\n",
    "Memory-Based Collaborative Filtering approaches can be divided into two main sections:\n",
    "\n",
    " - *User-item filtering* will take a particular user, find users that are similar to that user based on similarity of ratings, and recommend items that those similar users liked. \n",
    "\n",
    " - *Item-item filtering* will take an item, find users who liked that item, and find other items that those users or similar users also liked. It takes items and outputs other items as recommendations. \n",
    " \n",
    "Here we choose **User-item filtering** to predict movie rates. \n",
    "\n",
    "For the model assessment, we use a distance metric to calculate the similarity between users."
   ]
  },
  {
   "cell_type": "markdown",
   "id": "7c95010e",
   "metadata": {},
   "source": [
    "A distance metric commonly used in recommender systems is *cosine similarity*, where the ratings are seen as vectors in ``n``-dimensional space and the similarity is calculated based on the angle between these vectors. \n",
    "Cosine similiarity for users *a* and *m* can be calculated using the formula below, where you take dot product of  the user vector *$u_k$* and the user vector *$u_a$* and divide it by multiplication of the Euclidean lengths of the vectors.\n",
    "<img class=\"aligncenter size-thumbnail img-responsive\" src=\"https://latex.codecogs.com/gif.latex?s_u^{cos}(u_k,u_a)=\\frac{u_k&space;\\cdot&space;u_a&space;}{&space;\\left&space;\\|&space;u_k&space;\\right&space;\\|&space;\\left&space;\\|&space;u_a&space;\\right&space;\\|&space;}&space;=\\frac{\\sum&space;x_{k,m}x_{a,m}}{\\sqrt{\\sum&space;x_{k,m}^2\\sum&space;x_{a,m}^2}}\"/>"
   ]
  },
  {
   "cell_type": "code",
   "execution_count": 78,
   "id": "eebb8930",
   "metadata": {},
   "outputs": [],
   "source": [
    "from sklearn.metrics import pairwise_distances\n",
    "\n",
    "u_sim = pairwise_distances(train_data_matrix, metric ='cosine')"
   ]
  },
  {
   "cell_type": "markdown",
   "id": "771e1bb9",
   "metadata": {},
   "source": [
    "Next, we can use the metric to make predictions. We can make a prediction by applying following formula for user-based CF:\n",
    "\n",
    "<img class=\"aligncenter size-thumbnail img-responsive\" src=\"https://latex.codecogs.com/gif.latex?\\hat{x}_{k,m}&space;=&space;\\bar{x}_{k}&space;&plus;&space;\\frac{\\sum\\limits_{u_a}&space;sim_u(u_k,&space;u_a)&space;(x_{a,m}&space;-&space;\\bar{x_{u_a}})}{\\sum\\limits_{u_a}|sim_u(u_k,&space;u_a)|}\"/>\n",
    "\n",
    "Imagine the similarity between users *k* and *a* as weights that are multiplied by the ratings of a similar user *a* (corrected for the average rating of that user). Before applying the formula, we need to normalize it so that the ratings stay between 1 and 5 and, as a final step, sum the average ratings for the user that you are trying to predict. \n",
    "\n",
    "The idea here is that some users may tend always to give high or low ratings to all movies. The relative difference in the ratings that these users give is more important than the absolute values. \n",
    "\n"
   ]
  },
  {
   "cell_type": "code",
   "execution_count": 83,
   "id": "b253cecc",
   "metadata": {},
   "outputs": [
    {
     "name": "stdout",
     "output_type": "stream",
     "text": [
      "RMSE for the memory-based CF:\n",
      " 3.09\n"
     ]
    }
   ],
   "source": [
    "mean_rate = train_data_matrix.mean(axis=1)\n",
    "\n",
    "#to calculate the diff between current value and mean, we need to transform the mean to the same format as the matrix\n",
    "rate_diff = (train_data_matrix - mean_rate[:,np.newaxis])\n",
    "\n",
    "#use the above similarity to calculate the formula\n",
    "pred = mean_rate[:,np.newaxis] +(u_sim.dot(rate_diff) / np.array([np.abs(u_sim).sum(axis = 1)]).T)\n",
    "\n",
    "#EVALUATION\n",
    "score = sqrt(mean_squared_error(pred[test_data_matrix.nonzero()].flatten(), test_data_matrix[test_data_matrix.nonzero()].flatten()))\n",
    "\n",
    "print(f'RMSE for the memory-based CF:\\n {score:.2f}')"
   ]
  },
  {
   "cell_type": "markdown",
   "id": "5570f129",
   "metadata": {},
   "source": [
    "## 6. Conclusion\n",
    "---"
   ]
  },
  {
   "cell_type": "markdown",
   "id": "114fc57a",
   "metadata": {},
   "source": [
    "To conclude, we can assure that every **Recommending System** has its pros and couns, but they clearly can suit better accordingly with the problem and data available. \n",
    "Collaborative Filtering usually performs better, but requires higher computational capacity (and sometimes more data). In this case, the model-based with SVD matrix factorization had a better performance in terms of RMSE than the Memory-based with cosine similarity.\n",
    "The content-based is simpler, though it cannot be measured and is less likely to overcome the former ones.\n"
   ]
  }
 ],
 "metadata": {
  "kernelspec": {
   "display_name": "Python 3",
   "language": "python",
   "name": "python3"
  },
  "language_info": {
   "codemirror_mode": {
    "name": "ipython",
    "version": 3
   },
   "file_extension": ".py",
   "mimetype": "text/x-python",
   "name": "python",
   "nbconvert_exporter": "python",
   "pygments_lexer": "ipython3",
   "version": "3.8.8"
  }
 },
 "nbformat": 4,
 "nbformat_minor": 5
}
